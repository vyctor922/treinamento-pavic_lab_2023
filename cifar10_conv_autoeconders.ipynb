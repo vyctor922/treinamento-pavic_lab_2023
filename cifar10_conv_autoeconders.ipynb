{
  "nbformat": 4,
  "nbformat_minor": 0,
  "metadata": {
    "colab": {
      "provenance": [],
      "gpuType": "T4"
    },
    "kernelspec": {
      "name": "python3",
      "display_name": "Python 3"
    },
    "language_info": {
      "name": "python"
    },
    "accelerator": "GPU"
  },
  "cells": [
    {
      "cell_type": "markdown",
      "source": [
        "# Auto Encoders:\n",
        "\n",
        "Compactação de imagens"
      ],
      "metadata": {
        "id": "OR3Y68_ZsWzI"
      }
    },
    {
      "cell_type": "markdown",
      "source": [
        "## Step 1: import libs"
      ],
      "metadata": {
        "id": "IXQtDgUGsb8M"
      }
    },
    {
      "cell_type": "code",
      "execution_count": 1,
      "metadata": {
        "id": "Ee5_9CmjrXQB"
      },
      "outputs": [],
      "source": [
        "from torchvision import datasets, transforms\n",
        "import torch\n",
        "from torch import nn, optim\n",
        "import matplotlib.pyplot as plt\n"
      ]
    },
    {
      "cell_type": "code",
      "source": [
        "torch.manual_seed(123)"
      ],
      "metadata": {
        "colab": {
          "base_uri": "https://localhost:8080/"
        },
        "id": "Jhm2jLZNszgb",
        "outputId": "69f90712-c992-47f8-e091-96be7eeefb1a"
      },
      "execution_count": 2,
      "outputs": [
        {
          "output_type": "execute_result",
          "data": {
            "text/plain": [
              "<torch._C.Generator at 0x7b26240f95d0>"
            ]
          },
          "metadata": {},
          "execution_count": 2
        }
      ]
    },
    {
      "cell_type": "markdown",
      "source": [
        "## Step 2: Dataset"
      ],
      "metadata": {
        "id": "RwgI-T__s1TR"
      }
    },
    {
      "cell_type": "code",
      "source": [
        "resize_transform = transforms.Compose([\n",
        "    transforms.Resize((28, 28)),\n",
        "    transforms.ToTensor()\n",
        "])"
      ],
      "metadata": {
        "id": "MQ2aj0LA-LK-"
      },
      "execution_count": 3,
      "outputs": []
    },
    {
      "cell_type": "code",
      "source": [
        "dataset_train = datasets.CIFAR10('CIFAR10-data',\n",
        "                               train=True,\n",
        "                               download = True,\n",
        "                               transform = resize_transform)\n",
        "train_dataloader = torch.utils.data.DataLoader(dataset_train,\n",
        "                                               batch_size=20,\n",
        "                                               shuffle=True)"
      ],
      "metadata": {
        "colab": {
          "base_uri": "https://localhost:8080/"
        },
        "id": "16vwDikts0Pn",
        "outputId": "6c4aec30-1168-4bd3-e393-c1df5d403516"
      },
      "execution_count": 4,
      "outputs": [
        {
          "output_type": "stream",
          "name": "stdout",
          "text": [
            "Downloading https://www.cs.toronto.edu/~kriz/cifar-10-python.tar.gz to CIFAR10-data/cifar-10-python.tar.gz\n"
          ]
        },
        {
          "output_type": "stream",
          "name": "stderr",
          "text": [
            "100%|██████████| 170498071/170498071 [00:03<00:00, 46012117.30it/s]\n"
          ]
        },
        {
          "output_type": "stream",
          "name": "stdout",
          "text": [
            "Extracting CIFAR10-data/cifar-10-python.tar.gz to CIFAR10-data\n"
          ]
        }
      ]
    },
    {
      "cell_type": "code",
      "source": [
        "dataset_val = datasets.CIFAR10('CIFAR10-data',\n",
        "                               train=False,\n",
        "                               download = True,\n",
        "                               transform = resize_transform)\n",
        "val_dataloader = torch.utils.data.DataLoader(dataset_val,\n",
        "                                               batch_size=20,\n",
        "                                               shuffle=True)"
      ],
      "metadata": {
        "id": "eazS9CpTtv9Q",
        "colab": {
          "base_uri": "https://localhost:8080/"
        },
        "outputId": "b0ca929f-9718-45f7-ae5e-64fd66811769"
      },
      "execution_count": 5,
      "outputs": [
        {
          "output_type": "stream",
          "name": "stdout",
          "text": [
            "Files already downloaded and verified\n"
          ]
        }
      ]
    },
    {
      "cell_type": "markdown",
      "source": [
        "## Step 3: Criar o autoencoder"
      ],
      "metadata": {
        "id": "rOSXXp9_t-Wt"
      }
    },
    {
      "cell_type": "code",
      "source": [
        "class autoencoder(nn.Module):\n",
        "  def __init__(self):\n",
        "    super().__init__()\n",
        "    #camadas do encoder\n",
        "    self.enc0 = nn.Conv2d(in_channels=3, out_channels=16, kernel_size=3)\n",
        "    self.enc1 = nn.Conv2d(in_channels=16,\n",
        "                          out_channels=8,\n",
        "                          kernel_size=(3, 3),\n",
        "                          padding=(1, 1))\n",
        "    self.enc2 = nn.Conv2d(in_channels=8,\n",
        "                          out_channels=8,\n",
        "                          kernel_size=(3, 3),\n",
        "                          stride=(2, 2),\n",
        "                          padding=(1, 1))\n",
        "    self.maxpool0 = nn.MaxPool2d(kernel_size= (2, 2))\n",
        "    self.maxpool1 = nn.MaxPool2d(kernel_size= (2, 2), padding = (1, 1))\n",
        "\n",
        "    self.flatten = nn.Flatten()\n",
        "\n",
        "    #camadas do decoder\n",
        "    self.dec0 = nn.Conv2d(in_channels=8,\n",
        "                          out_channels=8,\n",
        "                          kernel_size= (3, 3),\n",
        "                          padding = (1, 1))\n",
        "    self.dec1 = nn.Conv2d(in_channels=8,\n",
        "                          out_channels=8,\n",
        "                          kernel_size= (3, 3),\n",
        "                          padding = (1, 1))\n",
        "    self.dec2 = nn.Conv2d(in_channels=8,\n",
        "                          out_channels=16,\n",
        "                          kernel_size= (3, 3))\n",
        "    self.dec3 = nn.Conv2d(in_channels=16,\n",
        "                          out_channels=3,\n",
        "                          kernel_size=(3, 3),\n",
        "                          padding = (1, 1))\n",
        "\n",
        "    self.upsampling = nn.UpsamplingBilinear2d(scale_factor=2)\n",
        "    #camadas de ativação\n",
        "    self.activation0 = nn.ReLU()\n",
        "    self.activation1 = nn.Sigmoid()\n",
        "\n",
        "  def forward(self, x):\n",
        "    x = self.maxpool0(self.activation0(self.enc0(x))) # 28 x 28 -> 26 x 26 -> 13x13\n",
        "    x = self.maxpool1(self.activation0(self.enc1(x))) # 13 x 13 -> 7 x 7\n",
        "    x = self.flatten(self.activation0(self.enc2(x)))  # 7 x 7 -> 4 x 4\n",
        "    x = x.view(-1, 8, 4, 4)\n",
        "    x = self.upsampling(self.activation0(self.dec0(x))) # 4 x 4 -> 8 x 8\n",
        "    x = self.upsampling(self.activation0(self.dec1(x))) # 8 x 8 -> 16 x 16\n",
        "    x = self.upsampling(self.activation0(self.dec2(x))) # 16 x 16 -> 28 x 28\n",
        "    x = self.activation1(self.dec3(x))\n",
        "    return x"
      ],
      "metadata": {
        "id": "qvdaH4w0vP-c"
      },
      "execution_count": 6,
      "outputs": []
    },
    {
      "cell_type": "code",
      "source": [
        "device = \"cuda\" if torch.cuda.is_available() else \"cpu\""
      ],
      "metadata": {
        "id": "bUUK7jXMw4t2"
      },
      "execution_count": 7,
      "outputs": []
    },
    {
      "cell_type": "code",
      "source": [
        "model = autoencoder().to(device)"
      ],
      "metadata": {
        "id": "A6k_L1juxC7I"
      },
      "execution_count": 8,
      "outputs": []
    },
    {
      "cell_type": "code",
      "source": [
        "loss_fn = nn.BCELoss()\n",
        "optimizer = optim.Adam(model.parameters(), lr=0.01)"
      ],
      "metadata": {
        "id": "Ngd0B9q_xMJ0"
      },
      "execution_count": 9,
      "outputs": []
    },
    {
      "cell_type": "markdown",
      "source": [
        "## Step 4: Treinamento do autoencoder"
      ],
      "metadata": {
        "id": "h-hl9ygHxYAw"
      }
    },
    {
      "cell_type": "code",
      "source": [
        "for epoch in range(50):\n",
        "\n",
        "  running_loss_train = 0.\n",
        "  for data in train_dataloader:\n",
        "    model.train()\n",
        "    inputs, _ = data\n",
        "    inputs = inputs.to(device)\n",
        "    optimizer.zero_grad()\n",
        "    outputs = model(inputs)\n",
        "\n",
        "    loss = loss_fn(outputs, inputs.view(*outputs.shape))\n",
        "    loss.backward()\n",
        "    optimizer.step()\n",
        "\n",
        "    running_loss_train += loss.item()\n",
        "\n",
        "  running_loss_val = 0.\n",
        "  for data in val_dataloader:\n",
        "    model.eval()\n",
        "    with torch.inference_mode():\n",
        "      inputs, _ = data\n",
        "      inputs = inputs.to(device)\n",
        "      outputs = model(inputs)\n",
        "    loss = loss_fn(outputs, inputs.view(*outputs.shape))\n",
        "    running_loss_val += loss.item()\n",
        "\n",
        "  print(f\"Epoch: {epoch+1} \"\n",
        "        f\"train_loss: {running_loss_train/len(train_dataloader):.3f} \"\n",
        "        f\"Val_loss: {running_loss_val/len(val_dataloader):.3f}\"\n",
        "        )"
      ],
      "metadata": {
        "colab": {
          "base_uri": "https://localhost:8080/"
        },
        "id": "uImC2tYuxezE",
        "outputId": "40f9455f-24ca-4ba4-9890-dbc470aae37b"
      },
      "execution_count": 10,
      "outputs": [
        {
          "output_type": "stream",
          "name": "stdout",
          "text": [
            "Epoch: 1 train_loss: 0.605 Val_loss: 0.601\n",
            "Epoch: 2 train_loss: 0.593 Val_loss: 0.591\n",
            "Epoch: 3 train_loss: 0.591 Val_loss: 0.593\n",
            "Epoch: 4 train_loss: 0.590 Val_loss: 0.594\n",
            "Epoch: 5 train_loss: 0.589 Val_loss: 0.588\n",
            "Epoch: 6 train_loss: 0.589 Val_loss: 0.588\n",
            "Epoch: 7 train_loss: 0.589 Val_loss: 0.588\n",
            "Epoch: 8 train_loss: 0.588 Val_loss: 0.589\n",
            "Epoch: 9 train_loss: 0.588 Val_loss: 0.588\n",
            "Epoch: 10 train_loss: 0.588 Val_loss: 0.588\n",
            "Epoch: 11 train_loss: 0.588 Val_loss: 0.590\n",
            "Epoch: 12 train_loss: 0.588 Val_loss: 0.589\n",
            "Epoch: 13 train_loss: 0.588 Val_loss: 0.588\n",
            "Epoch: 14 train_loss: 0.588 Val_loss: 0.590\n",
            "Epoch: 15 train_loss: 0.588 Val_loss: 0.587\n",
            "Epoch: 16 train_loss: 0.588 Val_loss: 0.586\n",
            "Epoch: 17 train_loss: 0.588 Val_loss: 0.590\n",
            "Epoch: 18 train_loss: 0.588 Val_loss: 0.590\n",
            "Epoch: 19 train_loss: 0.588 Val_loss: 0.592\n",
            "Epoch: 20 train_loss: 0.588 Val_loss: 0.587\n",
            "Epoch: 21 train_loss: 0.587 Val_loss: 0.587\n",
            "Epoch: 22 train_loss: 0.587 Val_loss: 0.593\n",
            "Epoch: 23 train_loss: 0.587 Val_loss: 0.587\n",
            "Epoch: 24 train_loss: 0.587 Val_loss: 0.587\n",
            "Epoch: 25 train_loss: 0.587 Val_loss: 0.587\n",
            "Epoch: 26 train_loss: 0.587 Val_loss: 0.588\n",
            "Epoch: 27 train_loss: 0.587 Val_loss: 0.587\n",
            "Epoch: 28 train_loss: 0.587 Val_loss: 0.587\n",
            "Epoch: 29 train_loss: 0.587 Val_loss: 0.587\n",
            "Epoch: 30 train_loss: 0.587 Val_loss: 0.587\n",
            "Epoch: 31 train_loss: 0.587 Val_loss: 0.587\n",
            "Epoch: 32 train_loss: 0.587 Val_loss: 0.589\n",
            "Epoch: 33 train_loss: 0.587 Val_loss: 0.589\n",
            "Epoch: 34 train_loss: 0.587 Val_loss: 0.588\n",
            "Epoch: 35 train_loss: 0.587 Val_loss: 0.586\n",
            "Epoch: 36 train_loss: 0.587 Val_loss: 0.588\n",
            "Epoch: 37 train_loss: 0.587 Val_loss: 0.587\n",
            "Epoch: 38 train_loss: 0.587 Val_loss: 0.586\n",
            "Epoch: 39 train_loss: 0.587 Val_loss: 0.588\n",
            "Epoch: 40 train_loss: 0.587 Val_loss: 0.587\n",
            "Epoch: 41 train_loss: 0.587 Val_loss: 0.587\n",
            "Epoch: 42 train_loss: 0.587 Val_loss: 0.587\n",
            "Epoch: 43 train_loss: 0.587 Val_loss: 0.591\n",
            "Epoch: 44 train_loss: 0.587 Val_loss: 0.587\n",
            "Epoch: 45 train_loss: 0.587 Val_loss: 0.586\n",
            "Epoch: 46 train_loss: 0.587 Val_loss: 0.588\n",
            "Epoch: 47 train_loss: 0.587 Val_loss: 0.588\n",
            "Epoch: 48 train_loss: 0.587 Val_loss: 0.589\n",
            "Epoch: 49 train_loss: 0.587 Val_loss: 0.587\n",
            "Epoch: 50 train_loss: 0.587 Val_loss: 0.587\n"
          ]
        }
      ]
    },
    {
      "cell_type": "markdown",
      "source": [
        "## Step 5: Gerando o Encoder"
      ],
      "metadata": {
        "id": "hQje6vGA2eC_"
      }
    },
    {
      "cell_type": "code",
      "source": [
        "for i, layer in enumerate(list(model.children())):\n",
        "  print(i, layer)"
      ],
      "metadata": {
        "colab": {
          "base_uri": "https://localhost:8080/"
        },
        "id": "2r8wYQpj2p42",
        "outputId": "9b8fa06a-ec9d-4922-b306-877cb9ddd49a"
      },
      "execution_count": 11,
      "outputs": [
        {
          "output_type": "stream",
          "name": "stdout",
          "text": [
            "0 Conv2d(3, 16, kernel_size=(3, 3), stride=(1, 1))\n",
            "1 Conv2d(16, 8, kernel_size=(3, 3), stride=(1, 1), padding=(1, 1))\n",
            "2 Conv2d(8, 8, kernel_size=(3, 3), stride=(2, 2), padding=(1, 1))\n",
            "3 MaxPool2d(kernel_size=(2, 2), stride=(2, 2), padding=0, dilation=1, ceil_mode=False)\n",
            "4 MaxPool2d(kernel_size=(2, 2), stride=(2, 2), padding=(1, 1), dilation=1, ceil_mode=False)\n",
            "5 Flatten(start_dim=1, end_dim=-1)\n",
            "6 Conv2d(8, 8, kernel_size=(3, 3), stride=(1, 1), padding=(1, 1))\n",
            "7 Conv2d(8, 8, kernel_size=(3, 3), stride=(1, 1), padding=(1, 1))\n",
            "8 Conv2d(8, 16, kernel_size=(3, 3), stride=(1, 1))\n",
            "9 Conv2d(16, 3, kernel_size=(3, 3), stride=(1, 1), padding=(1, 1))\n",
            "10 UpsamplingBilinear2d(scale_factor=2.0, mode='bilinear')\n",
            "11 ReLU()\n",
            "12 Sigmoid()\n"
          ]
        }
      ]
    },
    {
      "cell_type": "code",
      "source": [
        "class encoder(nn.Module):\n",
        "  def __init__(self):\n",
        "    super().__init__()\n",
        "    self.enc0 = list(model.children())[0]\n",
        "    self.enc1 = list(model.children())[1]\n",
        "    self.enc2 = list(model.children())[2]\n",
        "\n",
        "    self.maxpool0 = list(model.children())[3]\n",
        "    self.maxpool1 = list(model.children())[4]\n",
        "\n",
        "    self.flatten = list(model.children())[5]\n",
        "\n",
        "    self.activation0 = list(model.children())[11]\n",
        "\n",
        "  def forward(self, x):\n",
        "    x = self.maxpool0(self.activation0(self.enc0(x)))\n",
        "    x = self.maxpool1(self.activation0(self.enc1(x)))\n",
        "    x = self.flatten(self.activation0(self.enc2(x)))\n",
        "\n",
        "    return x"
      ],
      "metadata": {
        "id": "OrvUjfoA2zQ4"
      },
      "execution_count": 12,
      "outputs": []
    },
    {
      "cell_type": "code",
      "source": [
        "model1 = encoder().to(device)"
      ],
      "metadata": {
        "id": "8BJOIzzO3ZHm"
      },
      "execution_count": 13,
      "outputs": []
    },
    {
      "cell_type": "markdown",
      "source": [
        "## Step 6: Gerar o Decoder"
      ],
      "metadata": {
        "id": "R8Ml1kxs3ihk"
      }
    },
    {
      "cell_type": "code",
      "source": [
        "class decoder(nn.Module):\n",
        "  def __init__(self):\n",
        "    super().__init__()\n",
        "    self.dec0 = list(model.children())[6]\n",
        "    self.dec1 = list(model.children())[7]\n",
        "    self.dec2 = list(model.children())[8]\n",
        "    self.dec3 = list(model.children())[9]\n",
        "\n",
        "    self.upsampling = list(model.children())[10]\n",
        "\n",
        "    self.activation0 = list(model.children())[11]\n",
        "    self.activation1 = list(model.children())[12]\n",
        "\n",
        "  def forward(self, x):\n",
        "    x = x.view(-1, 8, 4, 4)\n",
        "    x = self.upsampling(self.activation0(self.dec0(x)))\n",
        "    x = self.upsampling(self.activation0(self.dec1(x)))\n",
        "    x = self.upsampling(self.activation0(self.dec2(x)))\n",
        "    x = self.activation1(self.dec3(x))\n",
        "    return x"
      ],
      "metadata": {
        "id": "Idrz4dM_3ldc"
      },
      "execution_count": 14,
      "outputs": []
    },
    {
      "cell_type": "code",
      "source": [
        "model2 = decoder().to(device)"
      ],
      "metadata": {
        "id": "bWosv2Rx3856"
      },
      "execution_count": 15,
      "outputs": []
    },
    {
      "cell_type": "markdown",
      "source": [
        "## Step 7: Vizualizar os resultados"
      ],
      "metadata": {
        "id": "HsS1WHjJ4ZGE"
      }
    },
    {
      "cell_type": "code",
      "source": [
        "numero_imagens = 10\n",
        "imagens_teste = next(iter(val_dataloader))[0][:numero_imagens]\n",
        "imagens_teste = imagens_teste.to(device)"
      ],
      "metadata": {
        "id": "xOj4ADmz4YUP"
      },
      "execution_count": 16,
      "outputs": []
    },
    {
      "cell_type": "code",
      "source": [
        "imagens_teste.shape"
      ],
      "metadata": {
        "colab": {
          "base_uri": "https://localhost:8080/"
        },
        "id": "D80_-0XY44dd",
        "outputId": "1b51ef94-526d-49d7-8300-0352f3e21f46"
      },
      "execution_count": 17,
      "outputs": [
        {
          "data": {
            "text/plain": [
              "torch.Size([10, 3, 28, 28])"
            ]
          },
          "execution_count": 17,
          "metadata": {},
          "output_type": "execute_result"
        }
      ]
    },
    {
      "cell_type": "code",
      "source": [
        "#codificação das imagens de teste - model1\n",
        "model1.eval()\n",
        "with torch.inference_mode():\n",
        "  imagens_codificadas = model1(imagens_teste)"
      ],
      "metadata": {
        "id": "nunSYoyi4-0V"
      },
      "execution_count": 18,
      "outputs": []
    },
    {
      "cell_type": "code",
      "source": [
        "imagens_codificadas.shape"
      ],
      "metadata": {
        "colab": {
          "base_uri": "https://localhost:8080/"
        },
        "id": "Z9AMNW3O5X7n",
        "outputId": "5423edba-09af-4e02-9974-2b5378dd548c"
      },
      "execution_count": 19,
      "outputs": [
        {
          "output_type": "execute_result",
          "data": {
            "text/plain": [
              "torch.Size([10, 128])"
            ]
          },
          "metadata": {},
          "execution_count": 19
        }
      ]
    },
    {
      "cell_type": "code",
      "source": [
        "8*4*4"
      ],
      "metadata": {
        "colab": {
          "base_uri": "https://localhost:8080/"
        },
        "id": "za1luJn0CvPo",
        "outputId": "8880b55e-f360-4c4e-a908-2d510714a469"
      },
      "execution_count": 20,
      "outputs": [
        {
          "data": {
            "text/plain": [
              "128"
            ]
          },
          "execution_count": 20,
          "metadata": {},
          "output_type": "execute_result"
        }
      ]
    },
    {
      "cell_type": "code",
      "source": [
        "#decodificar as imagens\n",
        "model2.eval()\n",
        "with torch.inference_mode():\n",
        "  imagens_decodificadas = model2(imagens_codificadas)"
      ],
      "metadata": {
        "id": "pQJEeHGX5edR"
      },
      "execution_count": 21,
      "outputs": []
    },
    {
      "cell_type": "code",
      "source": [
        "imagens_decodificadas.shape"
      ],
      "metadata": {
        "colab": {
          "base_uri": "https://localhost:8080/"
        },
        "id": "zXabXYJf5sn-",
        "outputId": "55082ecd-9ad0-4fe4-ea89-ec74286061ed"
      },
      "execution_count": 22,
      "outputs": [
        {
          "output_type": "execute_result",
          "data": {
            "text/plain": [
              "torch.Size([10, 3, 28, 28])"
            ]
          },
          "metadata": {},
          "execution_count": 22
        }
      ]
    },
    {
      "cell_type": "code",
      "source": [
        "imagens_teste = imagens_teste.detach().cpu().numpy().reshape(-1, 28, 28)\n",
        "imagens_codificadas = imagens_codificadas.detach().cpu().numpy().reshape(-1, 16, 8)\n",
        "imagens_decodificadas  = imagens_decodificadas.detach().cpu().numpy().reshape(-1, 28, 28)"
      ],
      "metadata": {
        "id": "2OpgCs0c6mWL"
      },
      "execution_count": 23,
      "outputs": []
    },
    {
      "cell_type": "code",
      "source": [
        "fig, axes = plt.subplots(nrows=3, ncols=numero_imagens, figsize=(10, 4))\n",
        "for imagens, ax_row in zip([imagens_teste, imagens_codificadas, imagens_decodificadas], axes):\n",
        "  for img, ax in zip(imagens, ax_row):\n",
        "    ax.imshow(img, cmap=\"gray\")\n",
        "    ax.get_xaxis().set_visible(False)\n",
        "    ax.get_yaxis().set_visible(False)"
      ],
      "metadata": {
        "colab": {
          "base_uri": "https://localhost:8080/",
          "height": 320
        },
        "id": "HD1Ie8NU7Rfb",
        "outputId": "cc7bdfa1-bbd9-49ee-81b1-11abd590a310"
      },
      "execution_count": 24,
      "outputs": [
        {
          "output_type": "display_data",
          "data": {
            "text/plain": [
              "<Figure size 1000x400 with 30 Axes>"
            ],
            "image/png": "[encoded data removed]"
          },
          "metadata": {}
        }
      ]
    }
  ]
}